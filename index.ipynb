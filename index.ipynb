{
 "cells": [
  {
   "cell_type": "markdown",
   "metadata": {},
   "source": [
    "# ATLAS Induction Days and Software Tutorials: Latest From ROOT\n",
    "<hr style=\"border-top-width: 4px; border-top-color: #34609b;\">\n",
    "Welocme to the hands-on session of the [\"Latest From ROOT\"](https://indico.cern.ch/event/684668/timetable/) contribution of the ATLAS Induction Days and Software Tutorials\n",
    "\n",
    "## Objectives\n",
    "During this session, you will see in action the concepts we discussed during the presentation. In particular, you will perform an \"analysis\" of an open dataset of the CMS experiment.\n",
    "\n",
    "The tool you will be using is [TDataFrame](https://root.cern.ch/doc/master/classROOT_1_1Experimental_1_1TDataFrame.html). We provided for you two notebooks where you will be able to complete a skeleton already prepared for you. One notebook is in Python, the other one in C++: feel free to decide to start with the one you prefer. \n",
    "\n",
    "We provide also solutions: our proposal to solve the exercises we provide. Try to look at them only when the time is up!\n",
    "\n",
    "**Warning**: remember to configure your SWAN session with the \"Bleeding Edge\" software stack, which is a preview of the forthcoming 6.12/06 ROOT release.\n",
    "\n",
    "## Running a Notebook Cell\n",
    "In order to run a notebook cell, the combination of keys to press is *shift+enter*, in case you are not familiar with this interface!\n",
    "\n",
    "## The exercises\n",
    "- Dimuon analysis in C++: [exercise](DimuonAnalysis_Exercise.ipynb) / [solution](DimuonAnalysis_Solution.ipynb)\n",
    "- Dimuon analysis in Python: [exercise](DimuonAnalysis_Exercise_Py.ipynb) / [solution](DimuonAnalysis_Solution.ipynb)\n"
   ]
  }
 ],
 "metadata": {
  "kernelspec": {
   "display_name": "Python 2",
   "language": "python",
   "name": "python2"
  },
  "language_info": {
   "codemirror_mode": {
    "name": "ipython",
    "version": 2
   },
   "file_extension": ".py",
   "mimetype": "text/x-python",
   "name": "python",
   "nbconvert_exporter": "python",
   "pygments_lexer": "ipython2",
   "version": "2.7.13"
  }
 },
 "nbformat": 4,
 "nbformat_minor": 2
}
