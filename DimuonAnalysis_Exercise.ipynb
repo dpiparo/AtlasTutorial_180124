{
 "cells": [
  {
   "cell_type": "markdown",
   "metadata": {},
   "source": [
    "# Analysis of an open dataset with TDataFrame\n",
    "<hr style=\"border-top-width: 4px; border-top-color: #34609b;\">\n",
    "This ROOTbook produces a plot of the dimuon invariant mass spectrum starting from a subset of the CMS collision events of Run2010B. \n",
    "Every entry in the dataset represents a muon pair. The columns available and their types are:\n",
    "- *E1*   double\n",
    "- *eta1* double\n",
    "- *phi1* double\n",
    "- *px1*  double\n",
    "- *py1*  double\n",
    "- *pz1*  double\n",
    "- *C2*   Long64_t\n",
    "- *E2*   double\n",
    "- *eta2* double\n",
    "- *phi2* double\n",
    "- *px2*  double\n",
    "- *py2*  double\n",
    "- *pz2*  double\n",
    "- *C2*   Long64_t\n",
    "\n",
    "Dataset Reference:<br>\n",
    "McCauley, T. (2014). Dimuon event information derived from the Run2010B public Mu dataset. CERN Open Data Portal. DOI: [10.7483/OPENDATA.CMS.CB8H.MFFA](http://opendata.cern.ch/record/700).\n",
    "\n",
    "## Objective of this exercises\n",
    "The objective is to illustrate how to use TDataFrame to produce the plot of the dimuon invariant mass spectrum, apply some cuts and inspect their efficiency and create some control plots.\n",
    "In some sense, this is a minimal form of what could be conceptually called an \"analysis\".\n",
    "\n",
    "### TDataFrame creation\n",
    "Let's create a *TDataFrame*, which is located in the *ROOT::Experimental* namespace. The filename(s) can be specified as a string (with a path or a glob) or a list of strings."
   ]
  },
  {
   "cell_type": "code",
   "execution_count": 1,
   "metadata": {},
   "outputs": [],
   "source": [
    "auto fileName = \"https://root.cern/files/teaching/CMS_Open_Dataset.root\";\n",
    "auto tdf = ROOT::Experimental::TDataFrame(\"data\", fileName);"
   ]
  },
  {
   "cell_type": "markdown",
   "metadata": {},
   "source": [
    "### Definition of the \"analisys\" cuts\n",
    "We need to apply some quality cuts to our muons:\n",
    "- Central muons, with a pesudorapidity smaller than 2.3\n",
    "- Muons of opposite charge :)\n",
    "- Muons with transverse momentum greater than 10 GeV\n",
    "In addition, we will define the charge cut as a C++ lambda and the other two as strings.\n",
    "The dataframe needs to be saved in a variable: we'll need that later."
   ]
  },
  {
   "cell_type": "code",
   "execution_count": 2,
   "metadata": {},
   "outputs": [
    {
     "name": "stderr",
     "output_type": "stream",
     "text": [
      "Warning in <TClass::Init>: no dictionary for class ROOT::TIOFeatures is available\n"
     ]
    }
   ],
   "source": [
    "auto chargeCut = [](Long64_t c1, Long64_t c2){ return c1 != c2;};\n",
    "auto etaCutStr = \"fabs(eta1) < 2.3 && fabs(eta2) < 2.3\";\n",
    "auto ptCutStr = \"pt1 > 10 && pt2 > 10\";\n",
    "auto tdf_f = tdf.Filter(chargeCut, {\"C1\", \"C2\"}, \"Opposite Charge\")\n",
    "                .Filter(etaCutStr, \"|Eta| < 2.3\")\n",
    "                .Filter(ptCutStr, \"Pt > 10\");"
   ]
  },
  {
   "cell_type": "code",
   "execution_count": 3,
   "metadata": {},
   "outputs": [
    {
     "name": "stderr",
     "output_type": "stream",
     "text": [
      "input_line_75:2:2: error: expected expression\n",
      " ### Creation of a column holding the invariant mass of the dimuon system\n",
      " ^\n"
     ]
    }
   ],
   "source": [
    "### Creation of a column holding the invariant mass of the dimuon system\n",
    "Here we create a new column, which does not exist in the original dataset. We can create it with the usual invariant mass formula, packed in a string.\n",
    "\n",
    " dd"
   ]
  },
  {
   "cell_type": "code",
   "execution_count": null,
   "metadata": {
    "collapsed": true
   },
   "outputs": [],
   "source": [
    "\n",
    "auto invMassFormula = \"sqrt(pow(E1+E2, 2) - (pow(px1+px2, 2) + pow(py1+py2, 2) + pow(pz1+pz2, 2)))\";\n",
    "auto tdf_fd = tdf_f.Define(\"invMass\", invMassFormula);\n",
    "\n",
    "auto pt1_h = tdf.Histo1D(\"pt1\");\n",
    "auto pt2_h = tdf.Histo1D(\"pt2\");\n",
    "\n",
    "auto invMass_h = tdf_fd.Histo1D({\"invMass\",\"CMS Opendata;#mu#mu mass [GeV];Events\",512,5,110},\"invMass\");\n",
    "auto pi = TMath::Pi();\n",
    "auto phis_h = tdf_fd.Histo2D({\"\", \"\", 64, -pi, pi, 64, -pi, pi}, \"phi1\", \"phi2\");\n",
    "\n",
    "\n",
    "TCanvas muonsPts;\n",
    "pt1_h->Draw(\"PL PLC PMC\");\n",
    "pt2_h->Draw(\"Same PL PLC PMC\");\n",
    "muonsPts.Draw();\n",
    "\n",
    "TCanvas phis;\n",
    "phis_h->Draw(\"col\");\n",
    "phis.Draw();\n",
    "\n",
    "tdf.Report();\n",
    "\n",
    "TCanvas invMass;\n",
    "invMass_h->Draw();\n",
    "invMass.SetLogy();\n",
    "invMass.SetLogx();\n",
    "invMass.SetGrid();\n",
    "invMass.Draw();"
   ]
  },
  {
   "cell_type": "markdown",
   "metadata": {},
   "source": [
    "A little extra: interactive ROOT JavaScript visualisation."
   ]
  }
 ],
 "metadata": {
  "kernelspec": {
   "display_name": "ROOT C++",
   "language": "c++",
   "name": "root"
  },
  "language_info": {
   "codemirror_mode": "text/x-c++src",
   "file_extension": ".C",
   "mimetype": " text/x-c++src",
   "name": "c++"
  }
 },
 "nbformat": 4,
 "nbformat_minor": 2
}
